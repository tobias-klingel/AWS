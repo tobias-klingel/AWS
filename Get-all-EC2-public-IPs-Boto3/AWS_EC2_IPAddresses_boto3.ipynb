{
 "cells": [
  {
   "cell_type": "code",
   "execution_count": 1,
   "id": "e35bcb9d",
   "metadata": {},
   "outputs": [],
   "source": [
    "#!pip install boto3"
   ]
  },
  {
   "cell_type": "code",
   "execution_count": 2,
   "id": "376136ec",
   "metadata": {},
   "outputs": [],
   "source": [
    "import boto3\n",
    "import os"
   ]
  },
  {
   "cell_type": "code",
   "execution_count": 3,
   "id": "95613aa2",
   "metadata": {},
   "outputs": [],
   "source": [
    "#Defines the regions to check EC2 IPs in\n",
    "allRegions =[\n",
    "    \"us-east-1\",\n",
    "    \"ap-southeast-1\",#Singapore\n",
    "        \n",
    "    #\"us-east-2\",\n",
    "    #\"us-west-1\",\n",
    "    #\"us-west-2\",\n",
    "        \n",
    "    #\"ap-east-1\", #HK\n",
    "   \n",
    "    \"ap-northeast-3\", #JK        \n",
    "    \"ap-south-1\", #Mumbai\n",
    "\n",
    "    \"ap-northeast-2\", #Seoul\n",
    "        \n",
    "    \"ap-southeast-2\",#Sydney\n",
    "    \"ap-northeast-1\",#Tokyo\n",
    "        \n",
    "    \"ca-central-1\",#Canada\n",
    "    \"eu-central-1\",#Frankfurt\n",
    "    \"eu-west-1\",#Ireland\n",
    "    \"eu-west-2\",#London\n",
    "    \"eu-west-3\",#Paris\n",
    "    \"eu-north-1\",#Stockhom\n",
    "    ]"
   ]
  },
  {
   "cell_type": "code",
   "execution_count": 4,
   "id": "2904cd47",
   "metadata": {},
   "outputs": [],
   "source": [
    "def botoInit():\n",
    "    profiles=[\"default\"]\n",
    "    os.environ['AWS_PROFILE'] = profiles[0]\n",
    "    session = boto3.Session(profile_name=os.environ['AWS_PROFILE'])"
   ]
  },
  {
   "cell_type": "code",
   "execution_count": 5,
   "id": "22b9a084",
   "metadata": {},
   "outputs": [],
   "source": [
    "def selectRegion(regionNum, allRegions, boto3, os):\n",
    "    \n",
    "    os.environ['AWS_DEFAULT_REGION'] = allRegions[regionNum]\n",
    "    \n",
    "    currentRegion = os.environ['AWS_DEFAULT_REGION']\n",
    "    accountIDNum = boto3.client('sts').get_caller_identity().get('Account')\n",
    "    awsCLIProfile = os.environ['AWS_PROFILE']\n",
    "    \n",
    "    return currentRegion, accountIDNum, awsCLIProfile"
   ]
  },
  {
   "cell_type": "code",
   "execution_count": 6,
   "id": "36fa03b0",
   "metadata": {},
   "outputs": [],
   "source": [
    "def createBoto3Client_EC2():\n",
    "    client = boto3.client('ec2')\n",
    "    return client"
   ]
  },
  {
   "cell_type": "markdown",
   "id": "fd20f3af",
   "metadata": {},
   "source": [
    "# Get EC2 IPs"
   ]
  },
  {
   "cell_type": "code",
   "execution_count": 7,
   "id": "12bcfddf",
   "metadata": {},
   "outputs": [],
   "source": [
    "def getAllPublicIPsOfARegion(client):\n",
    "    allEC2PublicIPsOfARegion  = []\n",
    "    responseEC2 = client.describe_instances()\n",
    "\n",
    "    for EC2Item in responseEC2['Reservations']:\n",
    "        try:\n",
    "            allEC2PublicIPsOfARegion.append(EC2Item['Instances'][0]['PublicIpAddress'])\n",
    "        except Exception as e:\n",
    "            print(\"Exception: \", e)\n",
    "            \n",
    "    return allEC2PublicIPsOfARegion"
   ]
  },
  {
   "cell_type": "code",
   "execution_count": 8,
   "id": "7512328c",
   "metadata": {},
   "outputs": [
    {
     "name": "stdout",
     "output_type": "stream",
     "text": [
      "=================================\n",
      "Current region:  us-east-1\n",
      "Profile:  default\n",
      "-> EC2 IPs: \n",
      "No IPs/EC2s found!\n",
      "=================================\n",
      "Current region:  ap-southeast-1\n",
      "Profile:  default\n",
      "-> EC2 IPs: \n",
      "--------->  ['18.142.250.193']\n",
      "=================================\n",
      "Current region:  ap-northeast-3\n",
      "Profile:  default\n",
      "-> EC2 IPs: \n",
      "No IPs/EC2s found!\n",
      "=================================\n",
      "Current region:  ap-south-1\n",
      "Profile:  default\n",
      "-> EC2 IPs: \n",
      "No IPs/EC2s found!\n",
      "=================================\n",
      "Current region:  ap-northeast-2\n",
      "Profile:  default\n",
      "-> EC2 IPs: \n",
      "No IPs/EC2s found!\n",
      "=================================\n",
      "Current region:  ap-southeast-2\n",
      "Profile:  default\n",
      "-> EC2 IPs: \n",
      "No IPs/EC2s found!\n",
      "=================================\n",
      "Current region:  ap-northeast-1\n",
      "Profile:  default\n",
      "-> EC2 IPs: \n",
      "No IPs/EC2s found!\n",
      "=================================\n",
      "Current region:  ca-central-1\n",
      "Profile:  default\n",
      "-> EC2 IPs: \n",
      "No IPs/EC2s found!\n",
      "=================================\n",
      "Current region:  eu-central-1\n",
      "Profile:  default\n",
      "-> EC2 IPs: \n",
      "No IPs/EC2s found!\n",
      "=================================\n",
      "Current region:  eu-west-1\n",
      "Profile:  default\n",
      "-> EC2 IPs: \n",
      "No IPs/EC2s found!\n",
      "=================================\n",
      "Current region:  eu-west-2\n",
      "Profile:  default\n",
      "-> EC2 IPs: \n",
      "No IPs/EC2s found!\n",
      "=================================\n",
      "Current region:  eu-west-3\n",
      "Profile:  default\n",
      "-> EC2 IPs: \n",
      "No IPs/EC2s found!\n",
      "=================================\n",
      "Current region:  eu-north-1\n",
      "Profile:  default\n",
      "-> EC2 IPs: \n",
      "No IPs/EC2s found!\n",
      "==============-End-=================\n",
      "All IPs of all regions searched in are:\n",
      "[['18.142.250.193']]\n"
     ]
    }
   ],
   "source": [
    "allIPsOfAllRegions = []\n",
    "for i in range(0,len(allRegions)):\n",
    "    regionNum = i\n",
    "    \n",
    "    botoInit()\n",
    "    currentRegion, accountIDNum, awsCLIProfile = selectRegion(regionNum, allRegions, boto3, os)\n",
    "    client = createBoto3Client_EC2()\n",
    "    \n",
    "    print(\"=================================\")\n",
    "    print(\"Current region: \", currentRegion)\n",
    "    #print(accountIDNum)\n",
    "    print(\"Profile: \", awsCLIProfile)\n",
    "    print(\"-> EC2 IPs: \")\n",
    "    \n",
    "    allIPsOfRegion = getAllPublicIPsOfARegion(client)\n",
    "    if(len(allIPsOfRegion)!=0):\n",
    "        allIPsOfAllRegions.append(allIPsOfRegion)\n",
    "        print(\"---------> \", allIPsOfRegion)\n",
    "    else:\n",
    "        print(\"No IPs/EC2s found!\")\n",
    "\n",
    "print(\"==============-End-=================\")\n",
    "print(\"All IPs of all regions searched in are:\")\n",
    "print(allIPsOfAllRegions)"
   ]
  }
 ],
 "metadata": {
  "kernelspec": {
   "display_name": "Python 3 (ipykernel)",
   "language": "python",
   "name": "python3"
  },
  "language_info": {
   "codemirror_mode": {
    "name": "ipython",
    "version": 3
   },
   "file_extension": ".py",
   "mimetype": "text/x-python",
   "name": "python",
   "nbconvert_exporter": "python",
   "pygments_lexer": "ipython3",
   "version": "3.10.2"
  }
 },
 "nbformat": 4,
 "nbformat_minor": 5
}
